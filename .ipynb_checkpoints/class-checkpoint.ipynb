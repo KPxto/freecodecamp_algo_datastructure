{
 "cells": [
  {
   "cell_type": "markdown",
   "metadata": {},
   "source": [
    "[Link para aula](https://www.youtube.com/watch?app=desktop&v=8hly31xKli0&feature=youtu.be)\n",
    "\n",
    "Parou em: 1:46 minutos"
   ]
  },
  {
   "cell_type": "markdown",
   "metadata": {},
   "source": [
    "# Algorithms"
   ]
  },
  {
   "cell_type": "markdown",
   "metadata": {},
   "source": [
    "- It is a set of instrutions to complete a task\n",
    "- When we talk about computer science, algorithm is a solution for a common problem\n",
    "    - Someone had already come up with a solution for a specific problem of the field\n",
    "- Why is it important?\n",
    "    - If you are looking to solve a problem, you might use a solution already available\n",
    "    - There is a likelihood your own solution won't be as good as the algorithm already in use\n",
    "- It is important not only to know about an algorithm but also when to apply it\n",
    "    - That is called algorithm thinking\n",
    "- Searching numbers\n",
    "    - Linear search / Simple search / Sequential search\n",
    "        - Look for a number counting one after another\n",
    "            - Example: to guessa the number 50, the individual would count from 1 up to 50\n",
    "    - Is is a very common way to solve our day to day problems\n",
    "    \n",
    "    <br>\n",
    "- So what makes an algorithm an algorithm?\n",
    "    - It follows a step by step rule\n",
    "    - And also there is a clear problem statement, input and output\n",
    "    - We have a problem and a specific set of steps in particular order to solve it\n",
    "    - The steps need to be very distinct\n",
    "    - The algorithm needs to produce a result\n",
    "    - The algorith should complete in a finite amount of time\n",
    "    - Executing an algorithm with a given result must result in the same output everytime\n",
    "    - When an algorithm follows above steps, it's reached one of its main features: correctness\n",
    "- Efficiency\n",
    "    - There are 2 measures that indicate efficiency\n",
    "        - Time\n",
    "            - The less time you take, the more efficient you are\n",
    "        - Space\n",
    "            - The amount of memory taken to complete the task\n",
    "    - The right way to evaluate efficioncy is by checking the worst case scenario"
   ]
  },
  {
   "cell_type": "markdown",
   "metadata": {},
   "source": [
    "### Binary Search"
   ]
  },
  {
   "cell_type": "markdown",
   "metadata": {},
   "source": [
    "- A way for searching where we get rid of half the values\n",
    "    - Faster than the linear search\n",
    "- For it to work properly, the values must be sorted\n",
    "- Components of binary search\n",
    "    - Input\n",
    "        - Sorted list of values\n",
    "    - Output\n",
    "        - Position in the list of the targeted value\n",
    "- More efficient than linear search because of each respective worst case scenario"
   ]
  },
  {
   "cell_type": "markdown",
   "metadata": {},
   "source": [
    "### Big O"
   ]
  },
  {
   "cell_type": "markdown",
   "metadata": {},
   "source": [
    "- It is a notation to describe the complexity and efficiency of an algorithm\n",
    "    - The 'o' means order of magnitude of complexity\n",
    "    - Example:\n",
    "        - O(n) --> time to complete the task is the same of size of input data\n",
    "            - Linear search\n",
    "        - O(log n) --> time to complete the task is the logarithm of size of input data\n",
    "            - Binary search\n",
    "                - The number of operations required to find a value is log2 of n + 1\n",
    "        - O(n2)\n",
    "            - Quadratic runtime\n",
    "- It is useful to understand time and space required to complete the task\n",
    "- In spite of its less efficiency, linear search is more adventageous when data is not sorted\n",
    "    - For binary search to work, data must be sorted\n",
    "- Polynomial runtime\n",
    "    - O(n^k)\n",
    "    - Where n is raised to the kth power\n",
    "        - K may be any number\n",
    "            - Just like the quadratic runtime\n",
    "- Exponential runtime\n",
    "    - O(x^n)\n",
    "    - The less efficient algorithms \n",
    "    - Brute Force\n",
    "        - A strategy where we try continuously until we stumble upon the right number\n",
    "        - Like trying to open a locker with 2 digits and searching every number until we put the right one\n",
    "        - It has exponential runtime\n",
    "            - 10 digits for each dial\n",
    "            - Adding just one more dial increases the number of tries significantly\n",
    "                - 10 digits raised to 3 dials = 10 x 10 x 10 = 1000 tries\n",
    "                - That's why it is so inneficient\n",
    "            "
   ]
  },
  {
   "cell_type": "markdown",
   "metadata": {},
   "source": [
    "**Linerar Search in Python**"
   ]
  },
  {
   "cell_type": "code",
   "execution_count": 9,
   "metadata": {},
   "outputs": [],
   "source": [
    "def linear_search(lista, target):\n",
    "    \"\"\"\n",
    "    Returns the index position of the target if found, else returns None\n",
    "    \"\"\"\n",
    "    for i in range(0, len(lista)):\n",
    "        if lista[i] == target:\n",
    "            return i\n",
    "    return None    "
   ]
  },
  {
   "cell_type": "markdown",
   "metadata": {},
   "source": [
    ">The worst case scenario for above function is it to loop the entire list searching for the value. As it goes from value to value since the beginning, we call it a linear search"
   ]
  },
  {
   "cell_type": "code",
   "execution_count": 20,
   "metadata": {},
   "outputs": [],
   "source": [
    "def verify(index):\n",
    "    \"\"\"\n",
    "    This function will confirm whether the linear_search function found\n",
    "    the target or not. In case index is found, It will print a message \n",
    "    informing the index. If not, it will return a message informing target \n",
    "    was not in list.\n",
    "    \"\"\"\n",
    "    if index is not None:\n",
    "        print(\"Target found at index:\", index)\n",
    "    else:\n",
    "        print(\"Target not found in list\")"
   ]
  },
  {
   "cell_type": "code",
   "execution_count": 34,
   "metadata": {},
   "outputs": [
    {
     "data": {
      "text/plain": [
       "[1, 2, 3, 4, 5, 6, 7, 8, 9, 10]"
      ]
     },
     "execution_count": 34,
     "metadata": {},
     "output_type": "execute_result"
    }
   ],
   "source": [
    "# our list from 1 to 10\n",
    "numbers = list(range(1, 11))\n",
    "numbers"
   ]
  },
  {
   "cell_type": "code",
   "execution_count": 87,
   "metadata": {},
   "outputs": [],
   "source": [
    "# applying the linear_search function with parameters\n",
    "# and saving the result in a variable\n",
    "# first, lets look for an index not existent in the numbers list\n",
    "result = linear_search(numbers, 12)"
   ]
  },
  {
   "cell_type": "code",
   "execution_count": 88,
   "metadata": {},
   "outputs": [
    {
     "name": "stdout",
     "output_type": "stream",
     "text": [
      "Target not found in list\n"
     ]
    }
   ],
   "source": [
    "# now let's verify the result\n",
    "verify(result)"
   ]
  },
  {
   "cell_type": "code",
   "execution_count": 89,
   "metadata": {},
   "outputs": [
    {
     "name": "stdout",
     "output_type": "stream",
     "text": [
      "Target found at index: 5\n"
     ]
    }
   ],
   "source": [
    "# now let's work with an existent index in numbers list\n",
    "result = linear_search(numbers, 6)\n",
    "verify(result)"
   ]
  },
  {
   "cell_type": "markdown",
   "metadata": {},
   "source": [
    "**Binary Search in Python**"
   ]
  },
  {
   "cell_type": "code",
   "execution_count": 39,
   "metadata": {},
   "outputs": [],
   "source": [
    "def binary_search(lista, target):\n",
    "    first = 0\n",
    "    last = len(lista) - 1\n",
    "    \n",
    "    while first <= last:\n",
    "        midpoint = (first + last)//2\n",
    "        \n",
    "        if lista[midpoint] == target:\n",
    "            return midpoint\n",
    "        elif lista[midpoint] < target:\n",
    "            first = midpoint + 1\n",
    "        else:\n",
    "            last = midpoint - 1\n",
    "    \n",
    "    return None"
   ]
  },
  {
   "cell_type": "code",
   "execution_count": 85,
   "metadata": {},
   "outputs": [
    {
     "name": "stdout",
     "output_type": "stream",
     "text": [
      "Target not found in list\n"
     ]
    }
   ],
   "source": [
    "# now let's apply the binary search and verify the results\n",
    "result = binary_search(numbers, 12)\n",
    "verify(result)"
   ]
  },
  {
   "cell_type": "code",
   "execution_count": 86,
   "metadata": {},
   "outputs": [
    {
     "name": "stdout",
     "output_type": "stream",
     "text": [
      "Target found at index: 5\n"
     ]
    }
   ],
   "source": [
    "result = binary_search(numbers, 6)\n",
    "verify(result)"
   ]
  },
  {
   "cell_type": "markdown",
   "metadata": {},
   "source": [
    "**Recursive Binary Search**\n",
    "\n",
    "Now we are going to implement a 2 version of binary search, now using the recursive function"
   ]
  },
  {
   "cell_type": "code",
   "execution_count": 90,
   "metadata": {},
   "outputs": [],
   "source": [
    "def recursive_binary_search(lista, target):\n",
    "    if len(lista) == 0:\n",
    "        return False\n",
    "    else:\n",
    "        midpoint = (len(lista))//2\n",
    "        \n",
    "        if lista[midpoint] == target:\n",
    "            return True\n",
    "        else:\n",
    "            if lista[midpoint] < target:\n",
    "                return recursive_binary_search(lista[midpoint + 1:], target)\n",
    "            else:\n",
    "                return recursive_binary_search(lista[:midpoint], target)"
   ]
  },
  {
   "cell_type": "code",
   "execution_count": 91,
   "metadata": {},
   "outputs": [],
   "source": [
    "def verify_2(result):\n",
    "    print(\"Target found: \", result)"
   ]
  },
  {
   "cell_type": "code",
   "execution_count": 92,
   "metadata": {},
   "outputs": [
    {
     "data": {
      "text/plain": [
       "[1, 2, 3, 4, 5, 6, 7, 8, 9, 10]"
      ]
     },
     "execution_count": 92,
     "metadata": {},
     "output_type": "execute_result"
    }
   ],
   "source": [
    "numbers"
   ]
  },
  {
   "cell_type": "code",
   "execution_count": 95,
   "metadata": {},
   "outputs": [
    {
     "name": "stdout",
     "output_type": "stream",
     "text": [
      "Target found at index: False\n"
     ]
    }
   ],
   "source": [
    "result = recursive_binary_search(numbers, 12)\n",
    "verify(result)"
   ]
  },
  {
   "cell_type": "code",
   "execution_count": 107,
   "metadata": {},
   "outputs": [
    {
     "name": "stdout",
     "output_type": "stream",
     "text": [
      "Target found at index: True\n"
     ]
    }
   ],
   "source": [
    "result = recursive_binary_search(numbers, 5)\n",
    "verify(result)"
   ]
  },
  {
   "cell_type": "markdown",
   "metadata": {},
   "source": [
    ">What's the difference between the 2 functions which implemented binary search? \n",
    ">- The last 4 lines of code in version 2 dictate all the difference"
   ]
  },
  {
   "cell_type": "markdown",
   "metadata": {},
   "source": [
    "Recursive function\n",
    "- It is a function that calls itself\n",
    "- These functions always require a stopping condition\n",
    "    - Stopping condition is also called base case\n",
    "    - In our recursive function above, the first stopping condition is the first line\n",
    "        - Where it verifies whether it is an empty list or not\n",
    "            - When the function finds an empty list it stops searching for numbers\n",
    "    - The second stopping condition is when it checks whether the midpoint matches with the target\n",
    "        - If it is the same as the target, then it will return True\n",
    "    - These 2 stopping condition encompasses the logic the necessary for our function to work\n",
    "        - Once you have the base cases, the rest of the implementation of the recursive function is to call itself with sublists until it hits one of the base cases\n",
    "- Recursive depth\n",
    "    - The number of times a function calls itself\n",
    "\n",
    "- Recursive solution\n",
    "    - A solution that does not change data\n",
    "        - Like the 2 version of binary search function\n",
    "    - Functional programming languages prefer that\n",
    "- Iterative solution\n",
    "    - When it is prefearable to change the data to find values\n",
    "    - Python prefers this kind of solution\n",
    "    - In a loop it keeps changing the value of the variables\n",
    "        - Like the version 1 of the binary search"
   ]
  },
  {
   "cell_type": "code",
   "execution_count": null,
   "metadata": {},
   "outputs": [],
   "source": []
  }
 ],
 "metadata": {
  "kernelspec": {
   "display_name": "Python 3",
   "language": "python",
   "name": "python3"
  },
  "language_info": {
   "codemirror_mode": {
    "name": "ipython",
    "version": 3
   },
   "file_extension": ".py",
   "mimetype": "text/x-python",
   "name": "python",
   "nbconvert_exporter": "python",
   "pygments_lexer": "ipython3",
   "version": "3.8.5"
  }
 },
 "nbformat": 4,
 "nbformat_minor": 4
}
