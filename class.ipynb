{
 "cells": [
  {
   "cell_type": "markdown",
   "metadata": {},
   "source": [
    "[Link para aula](https://www.youtube.com/watch?app=desktop&v=8hly31xKli0&feature=youtu.be)\n",
    "\n",
    "Parou em: 1:15 minutos"
   ]
  },
  {
   "cell_type": "markdown",
   "metadata": {},
   "source": [
    "# Algorithms"
   ]
  },
  {
   "cell_type": "markdown",
   "metadata": {},
   "source": [
    "- It is a set of instrutions to complete a task\n",
    "- When we talk about computer science, algorithm is a solution for a common problem\n",
    "    - Someone had already come up with a solution for a specific problem of the field\n",
    "- Why is it important?\n",
    "    - If you are looking to solve a problem, you might use a solution already available\n",
    "    - There is a likelihood your own solution won't be as good as the algorithm already in use\n",
    "- It is important not only to know about an algorithm but also when to apply it\n",
    "    - That is called algorithm thinking\n",
    "- Searching numbers\n",
    "    - Linear search / Simple search / Sequential search\n",
    "        - Look for a number counting one after another\n",
    "            - Example: to guessa the number 50, the individual would count from 1 up to 50\n",
    "    - Is is a very common way to solve our day to day problems\n",
    "    \n",
    "    <br>\n",
    "- So what makes an algorithm an algorithm?\n",
    "    - It follows a step by step rule\n",
    "    - And also there is a clear problem statement, input and output\n",
    "    - We have a problem and a specific set of steps in particular order to solve it\n",
    "    - The steps need to be very distinct\n",
    "    - The algorithm needs to produce a result\n",
    "    - The algorith should complete in a finite amount of time\n",
    "    - Executing an algorithm with a given result must result in the same output everytime\n",
    "    - When an algorithm follows above steps, it's reached one of its main features: correctness\n",
    "- Efficiency\n",
    "    - There are 2 measures that indicate efficiency\n",
    "        - Time\n",
    "            - The less time you take, the more efficient you are\n",
    "        - Space\n",
    "            - The amount of memory taken to complete the task\n",
    "    - The right way to evaluate efficioncy is by checking the worst case scenario"
   ]
  },
  {
   "cell_type": "markdown",
   "metadata": {},
   "source": [
    "### Binary Search"
   ]
  },
  {
   "cell_type": "markdown",
   "metadata": {},
   "source": [
    "- A way for searching where we get rid of half the values\n",
    "    - Faster than the linear search\n",
    "- For it to work properly, the values must be sorted\n",
    "- Components of binary search\n",
    "    - Input\n",
    "        - Sorted list of values\n",
    "    - Output\n",
    "        - Position in the list of the targeted value\n",
    "- More efficient than linear search because of each respective worst case scenario"
   ]
  },
  {
   "cell_type": "markdown",
   "metadata": {},
   "source": [
    "### Big O"
   ]
  },
  {
   "cell_type": "markdown",
   "metadata": {},
   "source": [
    "- It is a notation to describe the complexity and efficiency of an algorithm\n",
    "    - The 'o' means order of magnitude of complexity\n",
    "    - Example:\n",
    "        - O(n) --> time to complete the task is the same of size of input data\n",
    "            - Linear search\n",
    "        - O(log n) --> time to complete the task is the logarithm of size of input data\n",
    "            - Binary search\n",
    "                - The number of operations required to find a value is log2 of n + 1\n",
    "        - O(n2)\n",
    "            - Quadratic runtime\n",
    "- It is useful to understand time and space required to complete the task\n",
    "- In spite of its less efficiency, linear search is more adventageous when data is not sorted\n",
    "    - For binary search to work, data must be sorted\n",
    "- Polynomial runtime\n",
    "    - O(n^k)\n",
    "    - Where n is raised to the kth power\n",
    "        - K may be any number\n",
    "            - Just like the quadratic runtime\n",
    "- Exponential runtime\n",
    "    - O(x^n)\n",
    "    - The less efficient algorithms \n",
    "    - Brute Force\n",
    "        - A strategy where we try continuously until we stumble upon the right number\n",
    "        - Like trying to open a locker with 2 digits and searching every number until we put the right one\n",
    "        - It has exponential runtime\n",
    "            - 10 digits for each dial\n",
    "            - Adding just one more dial increases the number of tries significantly\n",
    "                - 10 digits raised to 3 dials = 10 x 10 x 10 = 1000 tries\n",
    "                - That's why it is so inneficient\n",
    "            "
   ]
  },
  {
   "cell_type": "code",
   "execution_count": 1,
   "metadata": {},
   "outputs": [],
   "source": [
    "def linear_search(lista, target):\n",
    "    \"\"\"\n",
    "    Returns the index position of the target if found, else returns None\n",
    "    \"\"\"\n",
    "    for i in range(0, len(lista)):\n",
    "        if lista[i] == target:\n",
    "            return i\n",
    "    return None    "
   ]
  },
  {
   "cell_type": "code",
   "execution_count": null,
   "metadata": {},
   "outputs": [],
   "source": []
  }
 ],
 "metadata": {
  "kernelspec": {
   "display_name": "Python 3",
   "language": "python",
   "name": "python3"
  },
  "language_info": {
   "codemirror_mode": {
    "name": "ipython",
    "version": 3
   },
   "file_extension": ".py",
   "mimetype": "text/x-python",
   "name": "python",
   "nbconvert_exporter": "python",
   "pygments_lexer": "ipython3",
   "version": "3.8.5"
  }
 },
 "nbformat": 4,
 "nbformat_minor": 4
}
