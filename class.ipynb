{
 "cells": [
  {
   "cell_type": "markdown",
   "metadata": {},
   "source": [
    "[Link para aula](https://www.youtube.com/watch?app=desktop&v=8hly31xKli0&feature=youtu.be)\n",
    "\n",
    "Parou em: 37 minutos"
   ]
  },
  {
   "cell_type": "markdown",
   "metadata": {},
   "source": [
    "# Algorithms"
   ]
  },
  {
   "cell_type": "markdown",
   "metadata": {},
   "source": [
    "- It is a set of instrutions to complete a task\n",
    "- When we talk about computer science, algorithm is a solution for a common problem\n",
    "    - Someone had already come up with a solution for a specific problem of the field\n",
    "- Why is it important?\n",
    "    - If you are looking to solve a problem, you might use a solution already available\n",
    "    - There is a likelihood your own solution won't be as good as the algorithm already in use\n",
    "- It is important not only to know about an algorithm but also when to apply it\n",
    "    - That is called algorithm thinking\n",
    "- Searching numbers\n",
    "    - Linear search / Simple search / Sequential search\n",
    "        - Look for a number counting one after another\n",
    "            - Example: to guessa the number 50, the individual would count from 1 up to 50\n",
    "    - Is is a very common way to solve our day to day problems\n",
    "    \n",
    "    <br>\n",
    "- So what makes an algorithm an algorithm?\n",
    "    - It follows a step by step rule\n",
    "    - And also there is a clear problem statement, input and output\n",
    "    - We have a problem and a specific set of steps in particular order to solve it\n",
    "    - The steps need to be very distinct\n",
    "    - The algorithm needs to produce a result\n",
    "    - The algorith should complete in a finite amount of time\n",
    "    - Executing an algorithm with a given result must result in the same output everytime\n",
    "    - When an algorithm follows above steps, it's reached one of its main features: correctness\n",
    "- Efficiency\n",
    "    - There are 2 measures that indicate efficiency\n",
    "        - Time\n",
    "            - The less time you take, the more efficient you are\n",
    "        - Space\n",
    "            - The amount of memory taken to complete the task\n",
    "    - The right way to evaluate efficioncy is by checking the worst case scenario"
   ]
  },
  {
   "cell_type": "markdown",
   "metadata": {},
   "source": [
    "### Binary Search"
   ]
  },
  {
   "cell_type": "markdown",
   "metadata": {},
   "source": [
    "- A way for searching where we get rid of half the values\n",
    "    - Faster than the linear search\n",
    "- For it to work properly, the values must be sorted\n",
    "- Components of binary search\n",
    "    - Input\n",
    "        - Sorted list of values\n",
    "    - Output\n",
    "        - Position in the list of the targeted value\n",
    "- More efficient than linear search because of each respective worst case scenario"
   ]
  },
  {
   "cell_type": "code",
   "execution_count": null,
   "metadata": {},
   "outputs": [],
   "source": []
  }
 ],
 "metadata": {
  "kernelspec": {
   "display_name": "Python 3",
   "language": "python",
   "name": "python3"
  },
  "language_info": {
   "codemirror_mode": {
    "name": "ipython",
    "version": 3
   },
   "file_extension": ".py",
   "mimetype": "text/x-python",
   "name": "python",
   "nbconvert_exporter": "python",
   "pygments_lexer": "ipython3",
   "version": "3.8.5"
  }
 },
 "nbformat": 4,
 "nbformat_minor": 4
}
